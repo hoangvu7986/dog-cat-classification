{
  "metadata": {
    "kernelspec": {
      "language": "python",
      "display_name": "Python 3",
      "name": "python3"
    },
    "language_info": {
      "name": "python",
      "version": "3.11.13",
      "mimetype": "text/x-python",
      "codemirror_mode": {
        "name": "ipython",
        "version": 3
      },
      "pygments_lexer": "ipython3",
      "nbconvert_exporter": "python",
      "file_extension": ".py"
    },
    "kaggle": {
      "accelerator": "none",
      "dataSources": [],
      "dockerImageVersionId": 31154,
      "isInternetEnabled": true,
      "language": "python",
      "sourceType": "notebook",
      "isGpuEnabled": false
    },
    "colab": {
      "provenance": [],
      "include_colab_link": true
    }
  },
  "nbformat_minor": 0,
  "nbformat": 4,
  "cells": [
    {
      "cell_type": "markdown",
      "metadata": {
        "id": "view-in-github",
        "colab_type": "text"
      },
      "source": [
        "<a href=\"https://colab.research.google.com/github/hoangvu7986/dog-cat-classification/blob/main/miai_sample.ipynb\" target=\"_parent\"><img src=\"https://colab.research.google.com/assets/colab-badge.svg\" alt=\"Open In Colab\"/></a>"
      ]
    },
    {
      "cell_type": "code",
      "source": [
        "# List folder for demo\n",
        "import os\n",
        "for dirname, _, filenames in os.walk('/kaggle/input'):\n",
        "    for filename in filenames:\n",
        "        print(os.path.join(dirname, filename))"
      ],
      "metadata": {
        "_uuid": "8f2839f25d086af736a60e9eeb907d3b93b6e0e5",
        "_cell_guid": "b1076dfc-b9ad-4769-8c92-a6c4dae69d19",
        "execution": {
          "iopub.status.busy": "2025-10-26T08:23:19.347304Z",
          "iopub.execute_input": "2025-10-26T08:23:19.347640Z",
          "iopub.status.idle": "2025-10-26T08:23:19.352858Z",
          "shell.execute_reply.started": "2025-10-26T08:23:19.347613Z",
          "shell.execute_reply": "2025-10-26T08:23:19.351909Z"
        },
        "trusted": true,
        "id": "SERJH0mGJEb9"
      },
      "outputs": [],
      "execution_count": null
    },
    {
      "cell_type": "code",
      "source": [
        "# List GPUs\n",
        "from tensorflow.python.client import device_lib\n",
        "\n",
        "def get_available_gpus():\n",
        "    local_device_protos = device_lib.list_local_devices()\n",
        "    return [x.name for x in local_device_protos if x.device_type == 'GPU']\n",
        "\n",
        "print(get_available_gpus())"
      ],
      "metadata": {
        "execution": {
          "iopub.status.busy": "2025-10-26T08:25:34.576802Z",
          "iopub.execute_input": "2025-10-26T08:25:34.577146Z",
          "iopub.status.idle": "2025-10-26T08:25:34.583361Z",
          "shell.execute_reply.started": "2025-10-26T08:25:34.577121Z",
          "shell.execute_reply": "2025-10-26T08:25:34.582239Z"
        },
        "trusted": true,
        "id": "AkAk42tqJEb_"
      },
      "outputs": [],
      "execution_count": null
    },
    {
      "cell_type": "code",
      "source": [
        "# Download file from GDrive. Shoudld use zip file and unzip later\n",
        "\n",
        "!pip install gdown\n",
        "!gdown --id 1NQ8BDtsg0GbHJw9bX5ceq_u3_56ne8n2"
      ],
      "metadata": {
        "execution": {
          "iopub.status.busy": "2023-12-15T13:53:59.379844Z",
          "iopub.execute_input": "2023-12-15T13:53:59.380866Z",
          "iopub.status.idle": "2023-12-15T13:54:14.809707Z",
          "shell.execute_reply.started": "2023-12-15T13:53:59.380833Z",
          "shell.execute_reply": "2023-12-15T13:54:14.808584Z"
        },
        "trusted": true,
        "id": "1gg_MTkOJEcB"
      },
      "outputs": [],
      "execution_count": null
    },
    {
      "cell_type": "code",
      "source": [
        "# Download from Remote URL\n",
        "!wget --no-check-certificate \\\n",
        "    https://storage.googleapis.com/mledu-datasets/cats_and_dogs_filtered.zip \\\n",
        "    -O /tmp/cats_and_dogs_filtered.zip"
      ],
      "metadata": {
        "execution": {
          "iopub.status.busy": "2025-10-26T08:23:31.559950Z",
          "iopub.execute_input": "2025-10-26T08:23:31.560231Z",
          "iopub.status.idle": "2025-10-26T08:23:32.245961Z",
          "shell.execute_reply.started": "2025-10-26T08:23:31.560212Z",
          "shell.execute_reply": "2025-10-26T08:23:32.245014Z"
        },
        "trusted": true,
        "id": "qccGd5DNJEcC"
      },
      "outputs": [],
      "execution_count": null
    },
    {
      "cell_type": "code",
      "source": [
        "import os\n",
        "\n",
        "# Đường dẫn mặc định Kaggle sẽ gắn (attach) Dataset của bạn\n",
        "# Tên thư mục thường là tên Dataset, có thể chứa dấu gạch ngang (-)\n",
        "KAGGLE_DATASET_NAME = 'cats-and-dogs-filtered'\n",
        "\n",
        "# Xác định thư mục gốc của Dataset trên Kaggle\n",
        "# Dataset sẽ nằm trong thư mục '/kaggle/input/'\n",
        "base_dir = os.path.join('/kaggle/input', KAGGLE_DATASET_NAME)\n",
        "\n",
        "# In ra đường dẫn gốc để kiểm tra\n",
        "print(f\"Dataset base directory: {base_dir}\")\n",
        "\n",
        "# --- Các bước tiếp theo để giải nén hoặc truy cập file ---\n",
        "# Nếu Dataset này đã được giải nén sẵn, bạn chỉ cần truy cập thẳng vào\n",
        "# các thư mục con (train, validation, v.v.) bên trong 'base_dir'.\n",
        "\n",
        "# Ví dụ, nếu cấu trúc Dataset của bạn là:\n",
        "# /kaggle/input/cats-and-dogs-filtered/cats_and_dogs_filtered/train/\n",
        "# Bạn sẽ cần:\n",
        "\n",
        "# Tên thư mục con bên trong Dataset (kiểm tra trên Kaggle)\n",
        "inner_folder = 'cats_and_dogs_filtered'\n",
        "dataset_path = os.path.join(base_dir, inner_folder)\n",
        "\n",
        "# Các đường dẫn cần thiết cho việc huấn luyện mô hình\n",
        "train_dir = os.path.join(dataset_path, 'train')\n",
        "validation_dir = os.path.join(dataset_path, 'validation')\n",
        "\n",
        "# In ra các đường dẫn mới\n",
        "print(f\"Train directory: {train_dir}\")\n",
        "print(f\"Validation directory: {validation_dir}\")\n",
        "\n",
        "# Bây giờ, bạn có thể sử dụng các biến train_dir và validation_dir này\n",
        "# để đọc dữ liệu (ví dụ: dùng ImageDataGenerator của Keras)."
      ],
      "metadata": {
        "trusted": true,
        "execution": {
          "iopub.status.busy": "2025-10-26T08:21:49.076724Z",
          "iopub.execute_input": "2025-10-26T08:21:49.077063Z",
          "iopub.status.idle": "2025-10-26T08:21:49.084173Z",
          "shell.execute_reply.started": "2025-10-26T08:21:49.077038Z",
          "shell.execute_reply": "2025-10-26T08:21:49.083246Z"
        },
        "id": "6xPuV5q3v-E8"
      },
      "outputs": [],
      "execution_count": null
    },
    {
      "cell_type": "code",
      "source": [
        "import os\n",
        "import zipfile\n",
        "\n",
        "local_zip = '/tmp/cats_and_dogs_filtered.zip'\n",
        "zip_ref = zipfile.ZipFile(local_zip, 'r')\n",
        "zip_ref.extractall('/tmp')\n",
        "zip_ref.close()"
      ],
      "metadata": {
        "execution": {
          "iopub.status.busy": "2025-10-26T08:23:47.199363Z",
          "iopub.execute_input": "2025-10-26T08:23:47.199763Z",
          "iopub.status.idle": "2025-10-26T08:23:48.302870Z",
          "shell.execute_reply.started": "2025-10-26T08:23:47.199734Z",
          "shell.execute_reply": "2025-10-26T08:23:48.301780Z"
        },
        "trusted": true,
        "id": "uZGrWCc7JEcC"
      },
      "outputs": [],
      "execution_count": null
    },
    {
      "cell_type": "code",
      "source": [
        "base_dir = '/tmp/cats_and_dogs_filtered'\n",
        "train_dir = os.path.join(base_dir, 'train')\n",
        "validation_dir = os.path.join(base_dir, 'validation')\n",
        "\n",
        "# Directory with our training cat pictures\n",
        "train_cats_dir = os.path.join(train_dir, 'cats')\n",
        "\n",
        "# Directory with our training dog pictures\n",
        "train_dogs_dir = os.path.join(train_dir, 'dogs')\n",
        "\n",
        "# Directory with our validation cat pictures\n",
        "validation_cats_dir = os.path.join(validation_dir, 'cats')\n",
        "\n",
        "# Directory with our validation dog pictures\n",
        "validation_dogs_dir = os.path.join(validation_dir, 'dogs')"
      ],
      "metadata": {
        "execution": {
          "iopub.status.busy": "2025-10-26T08:23:55.704775Z",
          "iopub.execute_input": "2025-10-26T08:23:55.705539Z",
          "iopub.status.idle": "2025-10-26T08:23:55.711077Z",
          "shell.execute_reply.started": "2025-10-26T08:23:55.705500Z",
          "shell.execute_reply": "2025-10-26T08:23:55.710000Z"
        },
        "trusted": true,
        "id": "Ij4EL8phJEcD"
      },
      "outputs": [],
      "execution_count": null
    },
    {
      "cell_type": "code",
      "source": [
        "base_dir = '/kaggle/input/cats_and_dogs_filtered'\n",
        "train_dir = os.path.join(base_dir, 'train')\n",
        "validation_dir = os.path.join(base_dir, 'validation')\n",
        "\n",
        "# Directory with our training cat pictures\n",
        "train_cats_dir = os.path.join(train_dir, 'cats')\n",
        "\n",
        "# Directory with our training dog pictures\n",
        "train_dogs_dir = os.path.join(train_dir, 'dogs')\n",
        "\n",
        "# Directory with our validation cat pictures\n",
        "validation_cats_dir = os.path.join(validation_dir, 'cats')\n",
        "\n",
        "# Directory with our validation dog pictures\n",
        "validation_dogs_dir = os.path.join(validation_dir, 'dogs')"
      ],
      "metadata": {
        "trusted": true,
        "execution": {
          "iopub.status.busy": "2025-10-26T08:19:12.569236Z",
          "iopub.execute_input": "2025-10-26T08:19:12.569938Z",
          "iopub.status.idle": "2025-10-26T08:19:12.574922Z",
          "shell.execute_reply.started": "2025-10-26T08:19:12.569904Z",
          "shell.execute_reply": "2025-10-26T08:19:12.574094Z"
        },
        "id": "MUcWDKxEv-E-"
      },
      "outputs": [],
      "execution_count": null
    },
    {
      "cell_type": "code",
      "source": [
        "train_cat_fnames = os.listdir(train_cats_dir)\n",
        "print(train_cat_fnames[:10])\n",
        "\n",
        "train_dog_fnames = os.listdir(train_dogs_dir)\n",
        "train_dog_fnames.sort()\n",
        "print(train_dog_fnames[:10])"
      ],
      "metadata": {
        "execution": {
          "iopub.status.busy": "2025-10-26T08:24:03.305417Z",
          "iopub.execute_input": "2025-10-26T08:24:03.305834Z",
          "iopub.status.idle": "2025-10-26T08:24:03.316335Z",
          "shell.execute_reply.started": "2025-10-26T08:24:03.305805Z",
          "shell.execute_reply": "2025-10-26T08:24:03.315169Z"
        },
        "trusted": true,
        "id": "Bzcv9YONJEcD"
      },
      "outputs": [],
      "execution_count": null
    },
    {
      "cell_type": "code",
      "source": [
        "import os\n",
        "\n",
        "# --- GIẢ ĐỊNH TỪ CÁC BƯỚC TRƯỚC ---\n",
        "# Các biến đường dẫn cần thiết để code bên dưới hoạt động:\n",
        "# base_dir = '/kaggle/input/cats-and-dogs-filtered'\n",
        "# inner_folder = 'cats_and_dogs_filtered'\n",
        "# dataset_path = os.path.join(base_dir, inner_folder)\n",
        "# train_dir = os.path.join(dataset_path, 'train')\n",
        "\n",
        "# *******************************************************************\n",
        "# Bổ sung các biến đường dẫn cụ thể cho thư mục mèo và chó (dogs/cats)\n",
        "# *******************************************************************\n",
        "\n",
        "# Tên thư mục con chứa ảnh mèo (cats) và chó (dogs)\n",
        "# Các thư mục này nằm bên trong thư mục 'train'\n",
        "train_cats_dir = os.path.join(train_dir, 'cats')\n",
        "train_dogs_dir = os.path.join(train_dir, 'dogs')\n",
        "\n",
        "# In ra đường dẫn để đảm bảo chúng đã đúng\n",
        "print(f\"Directory for training cats: {train_cats_dir}\")\n",
        "print(f\"Directory for training dogs: {train_dogs_dir}\")\n",
        "\n",
        "# *******************************************************************\n",
        "# Đoạn code bạn yêu cầu sửa (SỬ DỤNG CÁC BIẾN MỚI)\n",
        "# *******************************************************************\n",
        "\n",
        "# Lấy danh sách tên tệp (filenames) của ảnh mèo\n",
        "train_cat_fnames = os.listdir(train_cats_dir)\n",
        "print(\"\\nTen anh meo dau tien:\")\n",
        "print(train_cat_fnames[:10])\n",
        "\n",
        "# Lấy danh sách tên tệp của ảnh chó\n",
        "train_dog_fnames = os.listdir(train_dogs_dir)\n",
        "\n",
        "# Sắp xếp tên tệp ảnh chó theo thứ tự (tùy chọn)\n",
        "train_dog_fnames.sort()\n",
        "\n",
        "print(\"\\nTen anh cho dau tien:\")\n",
        "print(train_dog_fnames[:10])\n",
        "\n",
        "# In ra tổng số lượng ảnh để xác nhận\n",
        "print(f\"\\nTong so anh meo trong tap train: {len(train_cat_fnames)}\")\n",
        "print(f\"Tong so anh cho trong tap train: {len(train_dog_fnames)}\")"
      ],
      "metadata": {
        "trusted": true,
        "id": "VngpDa8Kv-E_"
      },
      "outputs": [],
      "execution_count": null
    },
    {
      "cell_type": "code",
      "source": [
        "print('total training cat images:', len(os.listdir(train_cats_dir)))\n",
        "print('total training dog images:', len(os.listdir(train_dogs_dir)))\n",
        "print('total validation cat images:', len(os.listdir(validation_cats_dir)))\n",
        "print('total validation dog images:', len(os.listdir(validation_dogs_dir)))"
      ],
      "metadata": {
        "execution": {
          "iopub.status.busy": "2025-10-26T08:24:10.309866Z",
          "iopub.execute_input": "2025-10-26T08:24:10.310868Z",
          "iopub.status.idle": "2025-10-26T08:24:10.319862Z",
          "shell.execute_reply.started": "2025-10-26T08:24:10.310828Z",
          "shell.execute_reply": "2025-10-26T08:24:10.318859Z"
        },
        "trusted": true,
        "id": "xnp7457cJEcD"
      },
      "outputs": [],
      "execution_count": null
    },
    {
      "cell_type": "code",
      "source": [
        "%matplotlib inline\n",
        "\n",
        "import matplotlib.pyplot as plt\n",
        "import matplotlib.image as mpimg\n",
        "\n",
        "# Parameters for our graph; we'll output images in a 4x4 configuration\n",
        "nrows = 4\n",
        "ncols = 4\n",
        "\n",
        "# Index for iterating over images\n",
        "pic_index = 0"
      ],
      "metadata": {
        "execution": {
          "iopub.status.busy": "2025-10-26T08:24:14.071060Z",
          "iopub.execute_input": "2025-10-26T08:24:14.071338Z",
          "iopub.status.idle": "2025-10-26T08:24:14.078089Z",
          "shell.execute_reply.started": "2025-10-26T08:24:14.071319Z",
          "shell.execute_reply": "2025-10-26T08:24:14.076892Z"
        },
        "trusted": true,
        "id": "iEnLlKcMJEcE"
      },
      "outputs": [],
      "execution_count": null
    },
    {
      "cell_type": "code",
      "source": [
        "# Set up matplotlib fig, and size it to fit 4x4 pics\n",
        "fig = plt.gcf()\n",
        "fig.set_size_inches(ncols * 4, nrows * 4)\n",
        "\n",
        "pic_index += 8\n",
        "next_cat_pix = [os.path.join(train_cats_dir, fname)\n",
        "                for fname in train_cat_fnames[pic_index-8:pic_index]]\n",
        "next_dog_pix = [os.path.join(train_dogs_dir, fname)\n",
        "                for fname in train_dog_fnames[pic_index-8:pic_index]]\n",
        "\n",
        "for i, img_path in enumerate(next_cat_pix+next_dog_pix):\n",
        "  # Set up subplot; subplot indices start at 1\n",
        "  sp = plt.subplot(nrows, ncols, i + 1)\n",
        "  sp.axis('Off') # Don't show axes (or gridlines)\n",
        "\n",
        "  img = mpimg.imread(img_path)\n",
        "  plt.imshow(img)\n",
        "\n",
        "plt.show()\n"
      ],
      "metadata": {
        "execution": {
          "iopub.status.busy": "2025-10-26T08:35:47.581327Z",
          "iopub.execute_input": "2025-10-26T08:35:47.581691Z",
          "iopub.status.idle": "2025-10-26T08:35:48.768829Z",
          "shell.execute_reply.started": "2025-10-26T08:35:47.581663Z",
          "shell.execute_reply": "2025-10-26T08:35:48.767529Z"
        },
        "trusted": true,
        "id": "ZiLa7gvJJEcE"
      },
      "outputs": [],
      "execution_count": null
    },
    {
      "cell_type": "code",
      "source": [
        "from tensorflow.keras import layers\n",
        "from tensorflow.keras import Model"
      ],
      "metadata": {
        "execution": {
          "iopub.status.busy": "2025-10-26T08:29:57.099631Z",
          "iopub.execute_input": "2025-10-26T08:29:57.100006Z",
          "iopub.status.idle": "2025-10-26T08:29:57.104614Z",
          "shell.execute_reply.started": "2025-10-26T08:29:57.099980Z",
          "shell.execute_reply": "2025-10-26T08:29:57.103888Z"
        },
        "trusted": true,
        "id": "YWjnpF5bJEcF"
      },
      "outputs": [],
      "execution_count": null
    },
    {
      "cell_type": "code",
      "source": [
        "# Our input feature map is 150x150x3: 150x150 for the image pixels, and 3 for\n",
        "# the three color channels: R, G, and B\n",
        "img_input = layers.Input(shape=(150, 150, 3))\n",
        "\n",
        "# First convolution extracts 16 filters that are 3x3\n",
        "# Convolution is followed by max-pooling layer with a 2x2 window\n",
        "x = layers.Conv2D(16, 3, activation='relu')(img_input)\n",
        "x = layers.MaxPooling2D(2)(x)\n",
        "\n",
        "# Second convolution extracts 32 filters that are 3x3\n",
        "# Convolution is followed by max-pooling layer with a 2x2 window\n",
        "x = layers.Conv2D(32, 3, activation='relu')(x)\n",
        "x = layers.MaxPooling2D(2)(x)\n",
        "\n",
        "# Third convolution extracts 64 filters that are 3x3\n",
        "# Convolution is followed by max-pooling layer with a 2x2 window\n",
        "x = layers.Conv2D(64, 3, activation='relu')(x)\n",
        "x = layers.MaxPooling2D(2)(x)"
      ],
      "metadata": {
        "execution": {
          "iopub.status.busy": "2025-10-26T08:30:03.370490Z",
          "iopub.execute_input": "2025-10-26T08:30:03.371317Z",
          "iopub.status.idle": "2025-10-26T08:30:03.409519Z",
          "shell.execute_reply.started": "2025-10-26T08:30:03.371289Z",
          "shell.execute_reply": "2025-10-26T08:30:03.408776Z"
        },
        "trusted": true,
        "id": "u6jQ7CBIJEcF"
      },
      "outputs": [],
      "execution_count": null
    },
    {
      "cell_type": "code",
      "source": [
        "# Flatten feature map to a 1-dim tensor so we can add fully connected layers\n",
        "x = layers.Flatten()(x)\n",
        "\n",
        "# Create a fully connected layer with ReLU activation and 512 hidden units\n",
        "x = layers.Dense(512, activation='relu')(x)\n",
        "\n",
        "# Create output layer with a single node and sigmoid activation\n",
        "output = layers.Dense(1, activation='sigmoid')(x)\n",
        "\n",
        "# Create model:\n",
        "# input = input feature map\n",
        "# output = input feature map + stacked convolution/maxpooling layers + fully\n",
        "# connected layer + sigmoid output layer\n",
        "model = Model(img_input, output)"
      ],
      "metadata": {
        "execution": {
          "iopub.status.busy": "2025-10-26T08:36:52.386449Z",
          "iopub.execute_input": "2025-10-26T08:36:52.386849Z",
          "iopub.status.idle": "2025-10-26T08:36:52.395089Z",
          "shell.execute_reply.started": "2025-10-26T08:36:52.386824Z",
          "shell.execute_reply": "2025-10-26T08:36:52.394192Z"
        },
        "trusted": true,
        "id": "Abgac3YOJEcF"
      },
      "outputs": [],
      "execution_count": null
    },
    {
      "cell_type": "code",
      "source": [
        "from tensorflow.keras.optimizers import RMSprop\n",
        "\n",
        "model.compile(loss='binary_crossentropy',\n",
        "              optimizer=RMSprop(learning_rate=0.001),\n",
        "              metrics=['acc'])"
      ],
      "metadata": {
        "execution": {
          "iopub.status.busy": "2025-10-26T08:31:29.186050Z",
          "iopub.execute_input": "2025-10-26T08:31:29.186715Z",
          "iopub.status.idle": "2025-10-26T08:31:29.196248Z",
          "shell.execute_reply.started": "2025-10-26T08:31:29.186688Z",
          "shell.execute_reply": "2025-10-26T08:31:29.195300Z"
        },
        "trusted": true,
        "id": "rC6oX5rTJEcF"
      },
      "outputs": [],
      "execution_count": null
    },
    {
      "cell_type": "code",
      "source": [
        "from tensorflow.keras.preprocessing.image import ImageDataGenerator\n",
        "\n",
        "# All images will be rescaled by 1./255\n",
        "train_datagen = ImageDataGenerator(rescale=1./255)\n",
        "val_datagen = ImageDataGenerator(rescale=1./255)\n",
        "\n",
        "# Flow training images in batches of 20 using train_datagen generator\n",
        "train_generator = train_datagen.flow_from_directory(\n",
        "        train_dir,  # This is the source directory for training images\n",
        "        target_size=(150, 150),  # All images will be resized to 150x150\n",
        "        batch_size=20,\n",
        "        # Since we use binary_crossentropy loss, we need binary labels\n",
        "        class_mode='binary')\n",
        "\n",
        "# Flow validation images in batches of 20 using val_datagen generator\n",
        "validation_generator = val_datagen.flow_from_directory(\n",
        "        validation_dir,\n",
        "        target_size=(150, 150),\n",
        "        batch_size=20,\n",
        "        class_mode='binary')"
      ],
      "metadata": {
        "execution": {
          "iopub.status.busy": "2025-10-26T08:31:31.443178Z",
          "iopub.execute_input": "2025-10-26T08:31:31.444050Z",
          "iopub.status.idle": "2025-10-26T08:31:31.492701Z",
          "shell.execute_reply.started": "2025-10-26T08:31:31.444010Z",
          "shell.execute_reply": "2025-10-26T08:31:31.491966Z"
        },
        "trusted": true,
        "id": "IurpGYnGJEcG"
      },
      "outputs": [],
      "execution_count": null
    },
    {
      "cell_type": "code",
      "source": [
        "history = model.fit(\n",
        "      train_generator,\n",
        "      steps_per_epoch=100,  # 2000 images = batch_size * steps\n",
        "      epochs=15,\n",
        "      validation_data=validation_generator,\n",
        "      validation_steps=50,  # 1000 images = batch_size * steps\n",
        "      verbose=2)"
      ],
      "metadata": {
        "execution": {
          "iopub.status.busy": "2025-10-26T08:36:32.415416Z",
          "iopub.execute_input": "2025-10-26T08:36:32.415711Z",
          "iopub.status.idle": "2025-10-26T08:36:32.483911Z",
          "shell.execute_reply.started": "2025-10-26T08:36:32.415683Z",
          "shell.execute_reply": "2025-10-26T08:36:32.482851Z"
        },
        "trusted": true,
        "id": "4iXEN6DvJEcG"
      },
      "outputs": [],
      "execution_count": null
    },
    {
      "cell_type": "code",
      "source": [
        "model.save(\"catdogmodel.h5\")"
      ],
      "metadata": {
        "execution": {
          "iopub.status.busy": "2023-12-15T13:58:56.606436Z",
          "iopub.execute_input": "2023-12-15T13:58:56.607159Z",
          "iopub.status.idle": "2023-12-15T13:58:56.790201Z",
          "shell.execute_reply.started": "2023-12-15T13:58:56.607125Z",
          "shell.execute_reply": "2023-12-15T13:58:56.789272Z"
        },
        "trusted": true,
        "id": "cY9de5ylJEcG"
      },
      "outputs": [],
      "execution_count": null
    },
    {
      "cell_type": "code",
      "source": [
        "# Retrieve a list of accuracy results on training and validation data\n",
        "# sets for each training epoch\n",
        "acc = history.history['acc']\n",
        "val_acc = history.history['val_acc']\n",
        "\n",
        "# Retrieve a list of list results on training and validation data\n",
        "# sets for each training epoch\n",
        "loss = history.history['loss']\n",
        "val_loss = history.history['val_loss']\n",
        "\n",
        "# Get number of epochs\n",
        "epochs = range(len(acc))\n",
        "\n",
        "# Plot training and validation accuracy per epoch\n",
        "plt.plot(epochs, acc)\n",
        "plt.plot(epochs, val_acc)\n",
        "plt.title('Training and validation accuracy')\n",
        "\n",
        "plt.figure()\n",
        "\n",
        "# Plot training and validation loss per epoch\n",
        "plt.plot(epochs, loss)\n",
        "plt.plot(epochs, val_loss)\n",
        "plt.title('Training and validation loss')"
      ],
      "metadata": {
        "execution": {
          "iopub.status.busy": "2023-12-15T13:59:24.713419Z",
          "iopub.execute_input": "2023-12-15T13:59:24.714283Z",
          "iopub.status.idle": "2023-12-15T13:59:25.318138Z",
          "shell.execute_reply.started": "2023-12-15T13:59:24.714251Z",
          "shell.execute_reply": "2023-12-15T13:59:25.317295Z"
        },
        "trusted": true,
        "id": "JC_WjwM_JEcH"
      },
      "outputs": [],
      "execution_count": null
    },
    {
      "cell_type": "code",
      "source": [
        "import os, signal\n",
        "os.kill(os.getpid(), signal.SIGKILL)"
      ],
      "metadata": {
        "trusted": true,
        "id": "t3XhjzjYJEcH"
      },
      "outputs": [],
      "execution_count": null
    },
    {
      "cell_type": "code",
      "source": [
        "!rm -rf /kaggle/working/*"
      ],
      "metadata": {
        "execution": {
          "iopub.status.busy": "2023-12-15T13:59:36.818288Z",
          "iopub.execute_input": "2023-12-15T13:59:36.819018Z",
          "iopub.status.idle": "2023-12-15T13:59:37.832037Z",
          "shell.execute_reply.started": "2023-12-15T13:59:36.818985Z",
          "shell.execute_reply": "2023-12-15T13:59:37.830590Z"
        },
        "trusted": true,
        "id": "AnyogngxJEcH"
      },
      "outputs": [],
      "execution_count": null
    }
  ]
}