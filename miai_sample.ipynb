{
  "metadata": {
    "kernelspec": {
      "language": "python",
      "display_name": "Python 3",
      "name": "python3"
    },
    "language_info": {
      "name": "python",
      "version": "3.10.12",
      "mimetype": "text/x-python",
      "codemirror_mode": {
        "name": "ipython",
        "version": 3
      },
      "pygments_lexer": "ipython3",
      "nbconvert_exporter": "python",
      "file_extension": ".py"
    },
    "kaggle": {
      "accelerator": "gpu",
      "dataSources": [],
      "dockerImageVersionId": 30627,
      "isInternetEnabled": true,
      "language": "python",
      "sourceType": "notebook",
      "isGpuEnabled": true
    },
    "colab": {
      "provenance": [],
      "include_colab_link": true
    }
  },
  "nbformat_minor": 0,
  "nbformat": 4,
  "cells": [
    {
      "cell_type": "markdown",
      "metadata": {
        "id": "view-in-github",
        "colab_type": "text"
      },
      "source": [
        "<a href=\"https://colab.research.google.com/github/hoangvu7986/dog-cat-classification/blob/main/miai_sample.ipynb\" target=\"_parent\"><img src=\"https://colab.research.google.com/assets/colab-badge.svg\" alt=\"Open In Colab\"/></a>"
      ]
    },
    {
      "cell_type": "code",
      "source": [
        "# List folder for demo\n",
        "import os\n",
        "for dirname, _, filenames in os.walk('/kaggle/input'):\n",
        "    for filename in filenames:\n",
        "        print(os.path.join(dirname, filename))"
      ],
      "metadata": {
        "_uuid": "8f2839f25d086af736a60e9eeb907d3b93b6e0e5",
        "_cell_guid": "b1076dfc-b9ad-4769-8c92-a6c4dae69d19",
        "execution": {
          "iopub.status.busy": "2023-12-15T13:53:01.413506Z",
          "iopub.execute_input": "2023-12-15T13:53:01.414426Z",
          "iopub.status.idle": "2023-12-15T13:53:01.427382Z",
          "shell.execute_reply.started": "2023-12-15T13:53:01.414384Z",
          "shell.execute_reply": "2023-12-15T13:53:01.426298Z"
        },
        "trusted": true,
        "id": "SERJH0mGJEb9"
      },
      "execution_count": null,
      "outputs": []
    },
    {
      "cell_type": "code",
      "source": [
        "# List GPUs\n",
        "from tensorflow.python.client import device_lib\n",
        "\n",
        "def get_available_gpus():\n",
        "    local_device_protos = device_lib.list_local_devices()\n",
        "    return [x.name for x in local_device_protos if x.device_type == 'GPU']\n",
        "\n",
        "print(get_available_gpus())"
      ],
      "metadata": {
        "execution": {
          "iopub.status.busy": "2023-12-15T13:53:04.041236Z",
          "iopub.execute_input": "2023-12-15T13:53:04.041921Z",
          "iopub.status.idle": "2023-12-15T13:53:17.834685Z",
          "shell.execute_reply.started": "2023-12-15T13:53:04.041888Z",
          "shell.execute_reply": "2023-12-15T13:53:17.833711Z"
        },
        "trusted": true,
        "id": "AkAk42tqJEb_"
      },
      "execution_count": null,
      "outputs": []
    },
    {
      "cell_type": "code",
      "source": [
        "# Download file from GDrive. Shoudld use zip file and unzip later\n",
        "\n",
        "!pip install gdown\n",
        "!gdown --id 1NQ8BDtsg0GbHJw9bX5ceq_u3_56ne8n2"
      ],
      "metadata": {
        "execution": {
          "iopub.status.busy": "2023-12-15T13:53:59.379844Z",
          "iopub.execute_input": "2023-12-15T13:53:59.380866Z",
          "iopub.status.idle": "2023-12-15T13:54:14.809707Z",
          "shell.execute_reply.started": "2023-12-15T13:53:59.380833Z",
          "shell.execute_reply": "2023-12-15T13:54:14.808584Z"
        },
        "trusted": true,
        "id": "1gg_MTkOJEcB"
      },
      "execution_count": null,
      "outputs": []
    },
    {
      "cell_type": "code",
      "source": [
        "# Download from Remote URL\n",
        "!wget --no-check-certificate \\\n",
        "    https://storage.googleapis.com/mledu-datasets/cats_and_dogs_filtered.zip \\\n",
        "    -O /tmp/cats_and_dogs_filtered.zip"
      ],
      "metadata": {
        "execution": {
          "iopub.status.busy": "2023-12-15T13:54:54.681047Z",
          "iopub.execute_input": "2023-12-15T13:54:54.681832Z",
          "iopub.status.idle": "2023-12-15T13:54:58.130647Z",
          "shell.execute_reply.started": "2023-12-15T13:54:54.681796Z",
          "shell.execute_reply": "2023-12-15T13:54:58.129620Z"
        },
        "trusted": true,
        "id": "qccGd5DNJEcC"
      },
      "execution_count": null,
      "outputs": []
    },
    {
      "cell_type": "code",
      "source": [
        "import os\n",
        "import zipfile\n",
        "\n",
        "local_zip = '/tmp/cats_and_dogs_filtered.zip'\n",
        "zip_ref = zipfile.ZipFile(local_zip, 'r')\n",
        "zip_ref.extractall('/tmp')\n",
        "zip_ref.close()"
      ],
      "metadata": {
        "execution": {
          "iopub.status.busy": "2023-12-15T13:55:50.696982Z",
          "iopub.execute_input": "2023-12-15T13:55:50.697355Z",
          "iopub.status.idle": "2023-12-15T13:55:51.543230Z",
          "shell.execute_reply.started": "2023-12-15T13:55:50.697321Z",
          "shell.execute_reply": "2023-12-15T13:55:51.542253Z"
        },
        "trusted": true,
        "id": "uZGrWCc7JEcC"
      },
      "execution_count": null,
      "outputs": []
    },
    {
      "cell_type": "code",
      "source": [
        "base_dir = '/tmp/cats_and_dogs_filtered'\n",
        "train_dir = os.path.join(base_dir, 'train')\n",
        "validation_dir = os.path.join(base_dir, 'validation')\n",
        "\n",
        "# Directory with our training cat pictures\n",
        "train_cats_dir = os.path.join(train_dir, 'cats')\n",
        "\n",
        "# Directory with our training dog pictures\n",
        "train_dogs_dir = os.path.join(train_dir, 'dogs')\n",
        "\n",
        "# Directory with our validation cat pictures\n",
        "validation_cats_dir = os.path.join(validation_dir, 'cats')\n",
        "\n",
        "# Directory with our validation dog pictures\n",
        "validation_dogs_dir = os.path.join(validation_dir, 'dogs')"
      ],
      "metadata": {
        "execution": {
          "iopub.status.busy": "2023-12-15T13:56:00.835051Z",
          "iopub.execute_input": "2023-12-15T13:56:00.835942Z",
          "iopub.status.idle": "2023-12-15T13:56:00.841549Z",
          "shell.execute_reply.started": "2023-12-15T13:56:00.835906Z",
          "shell.execute_reply": "2023-12-15T13:56:00.840609Z"
        },
        "trusted": true,
        "id": "Ij4EL8phJEcD"
      },
      "execution_count": null,
      "outputs": []
    },
    {
      "cell_type": "code",
      "source": [
        "train_cat_fnames = os.listdir(train_cats_dir)\n",
        "print(train_cat_fnames[:10])\n",
        "\n",
        "train_dog_fnames = os.listdir(train_dogs_dir)\n",
        "train_dog_fnames.sort()\n",
        "print(train_dog_fnames[:10])"
      ],
      "metadata": {
        "execution": {
          "iopub.status.busy": "2023-12-15T13:56:15.181485Z",
          "iopub.execute_input": "2023-12-15T13:56:15.181876Z",
          "iopub.status.idle": "2023-12-15T13:56:15.189385Z",
          "shell.execute_reply.started": "2023-12-15T13:56:15.181844Z",
          "shell.execute_reply": "2023-12-15T13:56:15.188512Z"
        },
        "trusted": true,
        "id": "Bzcv9YONJEcD"
      },
      "execution_count": null,
      "outputs": []
    },
    {
      "cell_type": "code",
      "source": [
        "print('total training cat images:', len(os.listdir(train_cats_dir)))\n",
        "print('total training dog images:', len(os.listdir(train_dogs_dir)))\n",
        "print('total validation cat images:', len(os.listdir(validation_cats_dir)))\n",
        "print('total validation dog images:', len(os.listdir(validation_dogs_dir)))"
      ],
      "metadata": {
        "execution": {
          "iopub.status.busy": "2023-12-15T13:56:20.387435Z",
          "iopub.execute_input": "2023-12-15T13:56:20.387779Z",
          "iopub.status.idle": "2023-12-15T13:56:20.395472Z",
          "shell.execute_reply.started": "2023-12-15T13:56:20.387754Z",
          "shell.execute_reply": "2023-12-15T13:56:20.394625Z"
        },
        "trusted": true,
        "id": "xnp7457cJEcD"
      },
      "execution_count": null,
      "outputs": []
    },
    {
      "cell_type": "code",
      "source": [
        "%matplotlib inline\n",
        "\n",
        "import matplotlib.pyplot as plt\n",
        "import matplotlib.image as mpimg\n",
        "\n",
        "# Parameters for our graph; we'll output images in a 4x4 configuration\n",
        "nrows = 4\n",
        "ncols = 4\n",
        "\n",
        "# Index for iterating over images\n",
        "pic_index = 0"
      ],
      "metadata": {
        "execution": {
          "iopub.status.busy": "2023-12-15T13:56:31.064353Z",
          "iopub.execute_input": "2023-12-15T13:56:31.064741Z",
          "iopub.status.idle": "2023-12-15T13:56:31.071514Z",
          "shell.execute_reply.started": "2023-12-15T13:56:31.064710Z",
          "shell.execute_reply": "2023-12-15T13:56:31.070580Z"
        },
        "trusted": true,
        "id": "iEnLlKcMJEcE"
      },
      "execution_count": null,
      "outputs": []
    },
    {
      "cell_type": "code",
      "source": [
        "# Set up matplotlib fig, and size it to fit 4x4 pics\n",
        "fig = plt.gcf()\n",
        "fig.set_size_inches(ncols * 4, nrows * 4)\n",
        "\n",
        "pic_index += 8\n",
        "next_cat_pix = [os.path.join(train_cats_dir, fname)\n",
        "                for fname in train_cat_fnames[pic_index-8:pic_index]]\n",
        "next_dog_pix = [os.path.join(train_dogs_dir, fname)\n",
        "                for fname in train_dog_fnames[pic_index-8:pic_index]]\n",
        "\n",
        "for i, img_path in enumerate(next_cat_pix+next_dog_pix):\n",
        "  # Set up subplot; subplot indices start at 1\n",
        "  sp = plt.subplot(nrows, ncols, i + 1)\n",
        "  sp.axis('Off') # Don't show axes (or gridlines)\n",
        "\n",
        "  img = mpimg.imread(img_path)\n",
        "  plt.imshow(img)\n",
        "\n",
        "plt.show()\n"
      ],
      "metadata": {
        "execution": {
          "iopub.status.busy": "2023-12-15T13:56:37.368788Z",
          "iopub.execute_input": "2023-12-15T13:56:37.369727Z",
          "iopub.status.idle": "2023-12-15T13:56:39.270793Z",
          "shell.execute_reply.started": "2023-12-15T13:56:37.369692Z",
          "shell.execute_reply": "2023-12-15T13:56:39.269546Z"
        },
        "trusted": true,
        "id": "ZiLa7gvJJEcE"
      },
      "execution_count": null,
      "outputs": []
    },
    {
      "cell_type": "code",
      "source": [
        "from tensorflow.keras import layers\n",
        "from tensorflow.keras import Model"
      ],
      "metadata": {
        "execution": {
          "iopub.status.busy": "2023-12-15T13:56:47.403671Z",
          "iopub.execute_input": "2023-12-15T13:56:47.404032Z",
          "iopub.status.idle": "2023-12-15T13:56:47.520395Z",
          "shell.execute_reply.started": "2023-12-15T13:56:47.404002Z",
          "shell.execute_reply": "2023-12-15T13:56:47.519620Z"
        },
        "trusted": true,
        "id": "YWjnpF5bJEcF"
      },
      "execution_count": null,
      "outputs": []
    },
    {
      "cell_type": "code",
      "source": [
        "# Our input feature map is 150x150x3: 150x150 for the image pixels, and 3 for\n",
        "# the three color channels: R, G, and B\n",
        "img_input = layers.Input(shape=(150, 150, 3))\n",
        "\n",
        "# First convolution extracts 16 filters that are 3x3\n",
        "# Convolution is followed by max-pooling layer with a 2x2 window\n",
        "x = layers.Conv2D(16, 3, activation='relu')(img_input)\n",
        "x = layers.MaxPooling2D(2)(x)\n",
        "\n",
        "# Second convolution extracts 32 filters that are 3x3\n",
        "# Convolution is followed by max-pooling layer with a 2x2 window\n",
        "x = layers.Conv2D(32, 3, activation='relu')(x)\n",
        "x = layers.MaxPooling2D(2)(x)\n",
        "\n",
        "# Third convolution extracts 64 filters that are 3x3\n",
        "# Convolution is followed by max-pooling layer with a 2x2 window\n",
        "x = layers.Conv2D(64, 3, activation='relu')(x)\n",
        "x = layers.MaxPooling2D(2)(x)"
      ],
      "metadata": {
        "execution": {
          "iopub.status.busy": "2023-12-15T13:56:50.130959Z",
          "iopub.execute_input": "2023-12-15T13:56:50.131743Z",
          "iopub.status.idle": "2023-12-15T13:56:50.610390Z",
          "shell.execute_reply.started": "2023-12-15T13:56:50.131711Z",
          "shell.execute_reply": "2023-12-15T13:56:50.609619Z"
        },
        "trusted": true,
        "id": "u6jQ7CBIJEcF"
      },
      "execution_count": null,
      "outputs": []
    },
    {
      "cell_type": "code",
      "source": [
        "# Flatten feature map to a 1-dim tensor so we can add fully connected layers\n",
        "x = layers.Flatten()(x)\n",
        "\n",
        "# Create a fully connected layer with ReLU activation and 512 hidden units\n",
        "x = layers.Dense(512, activation='relu')(x)\n",
        "\n",
        "# Create output layer with a single node and sigmoid activation\n",
        "output = layers.Dense(1, activation='sigmoid')(x)\n",
        "\n",
        "# Create model:\n",
        "# input = input feature map\n",
        "# output = input feature map + stacked convolution/maxpooling layers + fully\n",
        "# connected layer + sigmoid output layer\n",
        "model = Model(img_input, output)"
      ],
      "metadata": {
        "execution": {
          "iopub.status.busy": "2023-12-15T13:56:55.053162Z",
          "iopub.execute_input": "2023-12-15T13:56:55.053786Z",
          "iopub.status.idle": "2023-12-15T13:56:55.101483Z",
          "shell.execute_reply.started": "2023-12-15T13:56:55.053752Z",
          "shell.execute_reply": "2023-12-15T13:56:55.100710Z"
        },
        "trusted": true,
        "id": "Abgac3YOJEcF"
      },
      "execution_count": null,
      "outputs": []
    },
    {
      "cell_type": "code",
      "source": [
        "from tensorflow.keras.optimizers import RMSprop\n",
        "\n",
        "model.compile(loss='binary_crossentropy',\n",
        "              optimizer=RMSprop(lr=0.001),\n",
        "              metrics=['acc'])"
      ],
      "metadata": {
        "execution": {
          "iopub.status.busy": "2023-12-15T13:57:19.458988Z",
          "iopub.execute_input": "2023-12-15T13:57:19.459329Z",
          "iopub.status.idle": "2023-12-15T13:57:19.480140Z",
          "shell.execute_reply.started": "2023-12-15T13:57:19.459302Z",
          "shell.execute_reply": "2023-12-15T13:57:19.479328Z"
        },
        "trusted": true,
        "id": "rC6oX5rTJEcF"
      },
      "execution_count": null,
      "outputs": []
    },
    {
      "cell_type": "code",
      "source": [
        "from tensorflow.keras.preprocessing.image import ImageDataGenerator\n",
        "\n",
        "# All images will be rescaled by 1./255\n",
        "train_datagen = ImageDataGenerator(rescale=1./255)\n",
        "val_datagen = ImageDataGenerator(rescale=1./255)\n",
        "\n",
        "# Flow training images in batches of 20 using train_datagen generator\n",
        "train_generator = train_datagen.flow_from_directory(\n",
        "        train_dir,  # This is the source directory for training images\n",
        "        target_size=(150, 150),  # All images will be resized to 150x150\n",
        "        batch_size=20,\n",
        "        # Since we use binary_crossentropy loss, we need binary labels\n",
        "        class_mode='binary')\n",
        "\n",
        "# Flow validation images in batches of 20 using val_datagen generator\n",
        "validation_generator = val_datagen.flow_from_directory(\n",
        "        validation_dir,\n",
        "        target_size=(150, 150),\n",
        "        batch_size=20,\n",
        "        class_mode='binary')"
      ],
      "metadata": {
        "execution": {
          "iopub.status.busy": "2023-12-15T13:57:25.440969Z",
          "iopub.execute_input": "2023-12-15T13:57:25.441330Z",
          "iopub.status.idle": "2023-12-15T13:57:25.532174Z",
          "shell.execute_reply.started": "2023-12-15T13:57:25.441301Z",
          "shell.execute_reply": "2023-12-15T13:57:25.531302Z"
        },
        "trusted": true,
        "id": "IurpGYnGJEcG"
      },
      "execution_count": null,
      "outputs": []
    },
    {
      "cell_type": "code",
      "source": [
        "history = model.fit_generator(\n",
        "      train_generator,\n",
        "      steps_per_epoch=100,  # 2000 images = batch_size * steps\n",
        "      epochs=15,\n",
        "      validation_data=validation_generator,\n",
        "      validation_steps=50,  # 1000 images = batch_size * steps\n",
        "      verbose=2)"
      ],
      "metadata": {
        "execution": {
          "iopub.status.busy": "2023-12-15T13:57:30.112457Z",
          "iopub.execute_input": "2023-12-15T13:57:30.113308Z",
          "iopub.status.idle": "2023-12-15T13:58:44.568811Z",
          "shell.execute_reply.started": "2023-12-15T13:57:30.113274Z",
          "shell.execute_reply": "2023-12-15T13:58:44.567885Z"
        },
        "trusted": true,
        "id": "4iXEN6DvJEcG"
      },
      "execution_count": null,
      "outputs": []
    },
    {
      "cell_type": "code",
      "source": [
        "model.save(\"catdogmodel.h5\")"
      ],
      "metadata": {
        "execution": {
          "iopub.status.busy": "2023-12-15T13:58:56.606436Z",
          "iopub.execute_input": "2023-12-15T13:58:56.607159Z",
          "iopub.status.idle": "2023-12-15T13:58:56.790201Z",
          "shell.execute_reply.started": "2023-12-15T13:58:56.607125Z",
          "shell.execute_reply": "2023-12-15T13:58:56.789272Z"
        },
        "trusted": true,
        "id": "cY9de5ylJEcG"
      },
      "execution_count": null,
      "outputs": []
    },
    {
      "cell_type": "code",
      "source": [
        "# Retrieve a list of accuracy results on training and validation data\n",
        "# sets for each training epoch\n",
        "acc = history.history['acc']\n",
        "val_acc = history.history['val_acc']\n",
        "\n",
        "# Retrieve a list of list results on training and validation data\n",
        "# sets for each training epoch\n",
        "loss = history.history['loss']\n",
        "val_loss = history.history['val_loss']\n",
        "\n",
        "# Get number of epochs\n",
        "epochs = range(len(acc))\n",
        "\n",
        "# Plot training and validation accuracy per epoch\n",
        "plt.plot(epochs, acc)\n",
        "plt.plot(epochs, val_acc)\n",
        "plt.title('Training and validation accuracy')\n",
        "\n",
        "plt.figure()\n",
        "\n",
        "# Plot training and validation loss per epoch\n",
        "plt.plot(epochs, loss)\n",
        "plt.plot(epochs, val_loss)\n",
        "plt.title('Training and validation loss')"
      ],
      "metadata": {
        "execution": {
          "iopub.status.busy": "2023-12-15T13:59:24.713419Z",
          "iopub.execute_input": "2023-12-15T13:59:24.714283Z",
          "iopub.status.idle": "2023-12-15T13:59:25.318138Z",
          "shell.execute_reply.started": "2023-12-15T13:59:24.714251Z",
          "shell.execute_reply": "2023-12-15T13:59:25.317295Z"
        },
        "trusted": true,
        "id": "JC_WjwM_JEcH"
      },
      "execution_count": null,
      "outputs": []
    },
    {
      "cell_type": "code",
      "source": [
        "import os, signal\n",
        "os.kill(os.getpid(), signal.SIGKILL)"
      ],
      "metadata": {
        "trusted": true,
        "id": "t3XhjzjYJEcH"
      },
      "execution_count": null,
      "outputs": []
    },
    {
      "cell_type": "code",
      "source": [
        "!rm -rf /kaggle/working/*"
      ],
      "metadata": {
        "execution": {
          "iopub.status.busy": "2023-12-15T13:59:36.818288Z",
          "iopub.execute_input": "2023-12-15T13:59:36.819018Z",
          "iopub.status.idle": "2023-12-15T13:59:37.832037Z",
          "shell.execute_reply.started": "2023-12-15T13:59:36.818985Z",
          "shell.execute_reply": "2023-12-15T13:59:37.830590Z"
        },
        "trusted": true,
        "id": "AnyogngxJEcH"
      },
      "execution_count": null,
      "outputs": []
    }
  ]
}